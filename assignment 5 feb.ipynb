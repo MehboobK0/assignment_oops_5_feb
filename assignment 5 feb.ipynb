{
 "cells": [
  {
   "cell_type": "code",
   "execution_count": 3,
   "id": "4bb2779d",
   "metadata": {},
   "outputs": [
    {
     "name": "stdout",
     "output_type": "stream",
     "text": [
      "Buddy is a Labrador\n",
      "Max says Woof!\n"
     ]
    }
   ],
   "source": [
    "#Q1:\n",
    "#Explain Class and Object with respect to Object-Oriented Programming. Give a suitable example.\n",
    "\n",
    "#Class:\n",
    "#A class is a blueprint for creating objects. It defines the properties (attributes) and behaviors (methods) that will be associated with the objects. It serves as a template for creating multiple objects with similar characteristics.\n",
    "\n",
    "#Object:\n",
    "#An object is an instance of a class. It is a concrete entity based on the class, with its own unique state and behavior. Objects are created from classes and represent specific instances of the class.\n",
    "class Dog:\n",
    "    def __init__(self, name, breed):\n",
    "        self.name = name\n",
    "        self.breed = breed\n",
    "    \n",
    "    def bark(self):\n",
    "        return \"Woof!\"\n",
    "\n",
    "# Creating objects (instances) of the Dog class\n",
    "dog1 = Dog(\"Buddy\", \"Labrador\")\n",
    "dog2 = Dog(\"Max\", \"Golden Retriever\")\n",
    "\n",
    "# Accessing attributes and calling methods of objects\n",
    "print(dog1.name, \"is a\", dog1.breed)\n",
    "print(dog2.name, \"says\", dog2.bark())\n",
    "\n"
   ]
  },
  {
   "cell_type": "code",
   "execution_count": 4,
   "id": "bb701599",
   "metadata": {},
   "outputs": [],
   "source": [
    "# Q2:\n",
    "# Name the four pillars of OOPs.\n",
    "\n",
    "# The four pillars of Object-Oriented Programming (OOP) are:\n",
    "\n",
    "# Encapsulation: Bundling data and methods that operate on the data into a single unit (class).\n",
    "# Abstraction: Hiding the complex implementation details and showing only the necessary features of an object.\n",
    "# Inheritance: Creating new classes (derived classes) from existing classes (base classes), inheriting their attributes and methods.\n",
    "# Polymorphism: The ability of different classes to be treated as objects of a common superclass, allowing methods to act differently based on the object they are called on."
   ]
  },
  {
   "cell_type": "code",
   "execution_count": 5,
   "id": "28eb486f",
   "metadata": {},
   "outputs": [
    {
     "name": "stdout",
     "output_type": "stream",
     "text": [
      "John is 30 years old.\n"
     ]
    }
   ],
   "source": [
    "# Q3:\n",
    "# Explain why the init() function is used. Give a suitable example.\n",
    "\n",
    "# The __init__() function is a special method in Python classes used for initializing object instances. It is called automatically when a new object is created. It allows you to set up initial attributes of an object.\n",
    "class Person:\n",
    "    def __init__(self, name, age):\n",
    "        self.name = name\n",
    "        self.age = age\n",
    "\n",
    "# Creating an object of the Person class\n",
    "person1 = Person(\"John\", 30)\n",
    "\n",
    "# Accessing attributes of the object\n",
    "print(person1.name, \"is\", person1.age, \"years old.\")\n"
   ]
  },
  {
   "cell_type": "code",
   "execution_count": 6,
   "id": "54ab8928",
   "metadata": {},
   "outputs": [],
   "source": [
    "# Q4:\n",
    "# Why self is used in OOPs?\n",
    "\n",
    "# In object-oriented programming (OOP) in Python, self is a reference to the current instance of the class. It is used to access variables and methods within the class. When defining methods, self must be the first parameter in the method definition, although you do not need to pass it explicitly when calling the method."
   ]
  },
  {
   "cell_type": "code",
   "execution_count": 7,
   "id": "049f4be9",
   "metadata": {},
   "outputs": [
    {
     "name": "stdout",
     "output_type": "stream",
     "text": [
      "Animal speaks\n",
      "Dog barks\n"
     ]
    }
   ],
   "source": [
    "# Q5:\n",
    "# What is inheritance? Give an example for each type of inheritance.\n",
    "\n",
    "# Inheritance is a mechanism in object-oriented programming that allows a class to inherit attributes and methods from another class. It promotes code reusability and enables the creation of a hierarchical relationship between classes.\n",
    "\n",
    "# Types of Inheritance:\n",
    "\n",
    "# Single Inheritance: A derived class inherits from only one base class.\n",
    "class Animal:\n",
    "    def speak(self):\n",
    "        return \"Animal speaks\"\n",
    "\n",
    "class Dog(Animal):\n",
    "    def bark(self):\n",
    "        return \"Dog barks\"\n",
    "\n",
    "# Dog inherits from Animal\n",
    "dog = Dog()\n",
    "print(dog.speak())  # Output: Animal speaks\n",
    "print(dog.bark())   # Output: Dog barks\n"
   ]
  },
  {
   "cell_type": "code",
   "execution_count": 8,
   "id": "3a8e659f",
   "metadata": {},
   "outputs": [
    {
     "name": "stdout",
     "output_type": "stream",
     "text": [
      "Method A\n",
      "Method B\n",
      "Method C\n"
     ]
    }
   ],
   "source": [
    "# Multiple Inheritance: A derived class inherits from more than one base class.\n",
    "class A:\n",
    "    def method_A(self):\n",
    "        return \"Method A\"\n",
    "\n",
    "class B:\n",
    "    def method_B(self):\n",
    "        return \"Method B\"\n",
    "\n",
    "class C(A, B):\n",
    "    def method_C(self):\n",
    "        return \"Method C\"\n",
    "\n",
    "# C inherits from both A and B\n",
    "obj = C()\n",
    "print(obj.method_A())  # Output: Method A\n",
    "print(obj.method_B())  # Output: Method B\n",
    "print(obj.method_C())  # Output: Method C\n"
   ]
  },
  {
   "cell_type": "code",
   "execution_count": 9,
   "id": "c31e899c",
   "metadata": {},
   "outputs": [
    {
     "name": "stdout",
     "output_type": "stream",
     "text": [
      "Method A\n",
      "Method B\n",
      "Method C\n"
     ]
    }
   ],
   "source": [
    "# Multilevel Inheritance: A derived class inherits from a base class, and another class is derived from it.4\n",
    "class A:\n",
    "    def method_A(self):\n",
    "        return \"Method A\"\n",
    "\n",
    "class B(A):\n",
    "    def method_B(self):\n",
    "        return \"Method B\"\n",
    "\n",
    "class C(B):\n",
    "    def method_C(self):\n",
    "        return \"Method C\"\n",
    "\n",
    "# C inherits from B, which inherits from A\n",
    "obj = C()\n",
    "print(obj.method_A())  # Output: Method A\n",
    "print(obj.method_B())  # Output: Method B\n",
    "print(obj.method_C())  # Output: Method C\n"
   ]
  },
  {
   "cell_type": "code",
   "execution_count": null,
   "id": "5e88e625",
   "metadata": {},
   "outputs": [],
   "source": []
  }
 ],
 "metadata": {
  "kernelspec": {
   "display_name": "Python 3 (ipykernel)",
   "language": "python",
   "name": "python3"
  },
  "language_info": {
   "codemirror_mode": {
    "name": "ipython",
    "version": 3
   },
   "file_extension": ".py",
   "mimetype": "text/x-python",
   "name": "python",
   "nbconvert_exporter": "python",
   "pygments_lexer": "ipython3",
   "version": "3.9.12"
  }
 },
 "nbformat": 4,
 "nbformat_minor": 5
}
